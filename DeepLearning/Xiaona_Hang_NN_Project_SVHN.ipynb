{
  "nbformat": 4,
  "nbformat_minor": 0,
  "metadata": {
    "accelerator": "TPU",
    "colab": {
      "name": "Xiaona_Hang_NN_Project_SVHN.ipynb",
      "provenance": [],
      "collapsed_sections": []
    },
    "kernelspec": {
      "display_name": "Python 3",
      "language": "python",
      "name": "python3"
    },
    "language_info": {
      "codemirror_mode": {
        "name": "ipython",
        "version": 3
      },
      "file_extension": ".py",
      "mimetype": "text/x-python",
      "name": "python",
      "nbconvert_exporter": "python",
      "pygments_lexer": "ipython3",
      "version": "3.6.8"
    },
    "toc": {
      "base_numbering": 1,
      "nav_menu": {},
      "number_sections": true,
      "sideBar": true,
      "skip_h1_title": false,
      "title_cell": "Table of Contents",
      "title_sidebar": "Contents",
      "toc_cell": false,
      "toc_position": {},
      "toc_section_display": true,
      "toc_window_display": false
    }
  },
  "cells": [
    {
      "cell_type": "markdown",
      "metadata": {
        "id": "Q91KqmCRu64D"
      },
      "source": [
        "# **Project - Artificial Neural Networks: Street View Housing Number Digit Recognition**\n",
        "\n",
        "# Marks: 30\n",
        "\n",
        "Welcome to the project on classification using Artificial Neural Networks. We will work with the Street View Housing Numbers (SVHN) image dataset for this project.\n",
        "\n",
        "--------------\n",
        "### **Context:** \n",
        "--------------\n",
        "\n",
        "One of the most interesting tasks in deep learning is to recognize objects in natural scenes. The ability to process visual information using machine learning algorithms can be very useful as demonstrated in various applications.\n",
        "\n",
        "The SVHN dataset contains over 600,000 labeled digits cropped from street level photos. It is one of the most popular image recognition datasets. It has been used in neural networks created by Google to improve map quality by automatically transcribing the address numbers from a patch of pixels. The transcribed number with a known street address helps pinpoint the location of the building it represents. \n",
        "\n",
        "----------------\n",
        "### **Objective:**\n",
        "----------------\n",
        "\n",
        "Build a feed forward neural network model that can identify the digits in the images. \n",
        "\n",
        "-------------\n",
        "### **Dataset**\n",
        "-------------\n",
        "Here, we will use a subset of the original data to save some computation time. The dataset is provided as a .h5 file. The basic preprocessing steps have been done."
      ]
    },
    {
      "cell_type": "markdown",
      "metadata": {
        "id": "8z2Z7-OAs8QG"
      },
      "source": [
        "## **Mount the drive**\n",
        "Let us start by mounting the drive and importing the necessary libraries."
      ]
    },
    {
      "cell_type": "code",
      "metadata": {
        "colab": {
          "base_uri": "https://localhost:8080/"
        },
        "id": "Qm3z1_ARQLgi",
        "outputId": "f98fbf39-aca2-43df-c2a7-570da7e9e646"
      },
      "source": [
        "from google.colab import drive\n",
        "drive.mount('/content/drive')"
      ],
      "execution_count": null,
      "outputs": [
        {
          "output_type": "stream",
          "name": "stdout",
          "text": [
            "Mounted at /content/drive\n"
          ]
        }
      ]
    },
    {
      "cell_type": "markdown",
      "metadata": {
        "id": "C8U3DUa3eNsT"
      },
      "source": [
        "## **Importing libraries**"
      ]
    },
    {
      "cell_type": "code",
      "metadata": {
        "id": "-dVzeuF3eQx1"
      },
      "source": [
        "import numpy as np\n",
        "import pandas as pd\n",
        "import matplotlib.pyplot as plt\n",
        "import seaborn as sns\n",
        "\n",
        "from sklearn.model_selection import train_test_split\n",
        "from sklearn.preprocessing import MinMaxScaler\n",
        "\n",
        "import tensorflow as tf\n",
        "from tensorflow.keras.models import Sequential\n",
        "from tensorflow.keras.layers import Dense, Dropout, Activation, BatchNormalization\n",
        "from tensorflow.keras.utils import to_categorical"
      ],
      "execution_count": null,
      "outputs": []
    },
    {
      "cell_type": "markdown",
      "metadata": {
        "id": "ucnevGLoyKf_"
      },
      "source": [
        "Let us check for the version of TensorFlow."
      ]
    },
    {
      "cell_type": "code",
      "metadata": {
        "colab": {
          "base_uri": "https://localhost:8080/"
        },
        "id": "W5as47YxyJVk",
        "outputId": "e49b839b-af79-4b32-d69f-f30e5ab76566"
      },
      "source": [
        "print(tf.__version__)"
      ],
      "execution_count": null,
      "outputs": [
        {
          "output_type": "stream",
          "name": "stdout",
          "text": [
            "2.6.0\n"
          ]
        }
      ]
    },
    {
      "cell_type": "markdown",
      "metadata": {
        "id": "8lsux2ZwyTTR"
      },
      "source": [
        "## **Load the dataset**\n",
        "- Let us now load the dataset that is available as a .h5 file.\n",
        "- Split the data into train and the test dataset"
      ]
    },
    {
      "cell_type": "code",
      "metadata": {
        "id": "BApX9qgNsqV0",
        "scrolled": true
      },
      "source": [
        "import h5py\n",
        "\n",
        "# Open the file as read only\n",
        "# User can make changes in the path as required\n",
        "h5f = h5py.File('/content/drive/MyDrive/SVHN_single_grey1.h5', 'r')\n",
        "\n",
        "# Load the training and the test set\n",
        "X_train = h5f['X_train'][:]\n",
        "y_train = h5f['y_train'][:]\n",
        "X_test = h5f['X_test'][:]\n",
        "y_test = h5f['y_test'][:]\n",
        "\n",
        "\n",
        "# Close this file\n",
        "h5f.close()"
      ],
      "execution_count": 7,
      "outputs": []
    },
    {
      "cell_type": "markdown",
      "metadata": {
        "id": "hVe0CYpUgj7w"
      },
      "source": [
        "Let's check the number of images in the training and testing data."
      ]
    },
    {
      "cell_type": "code",
      "metadata": {
        "id": "y3lwKpOefkpA",
        "colab": {
          "base_uri": "https://localhost:8080/"
        },
        "outputId": "6759a736-0e12-441c-f749-452b9f2edec1"
      },
      "source": [
        "len(X_train), len(X_test)"
      ],
      "execution_count": 8,
      "outputs": [
        {
          "output_type": "execute_result",
          "data": {
            "text/plain": [
              "(42000, 18000)"
            ]
          },
          "metadata": {},
          "execution_count": 8
        }
      ]
    },
    {
      "cell_type": "markdown",
      "metadata": {
        "id": "akTUOfLlgwoM"
      },
      "source": [
        "**Observations**\n",
        "- There are 42,000 images in the training data and 18,000 images in the testing data. "
      ]
    },
    {
      "cell_type": "markdown",
      "metadata": {
        "id": "kxODV6HKykuc"
      },
      "source": [
        "## **Visualizing images**\n",
        "- Use X_train to visualize the first 10 images\n",
        "- Use Y_train to print the first 10 labels"
      ]
    },
    {
      "cell_type": "code",
      "metadata": {
        "id": "Bvsc8ytHsqWD",
        "colab": {
          "base_uri": "https://localhost:8080/",
          "height": 95
        },
        "outputId": "0cee44d1-9fa2-454b-b1bb-02bb7590bc65"
      },
      "source": [
        "# visualizing the first 10 images in the dataset and their labels\n",
        "plt.figure(figsize=(10, 1))\n",
        "\n",
        "for i in range(10):\n",
        "    plt.subplot(1, 10, i+1)\n",
        "    plt.imshow(X_train[i], cmap=\"gray\")\n",
        "    plt.axis('off')\n",
        "\n",
        "plt.show()\n",
        "print('label for each of the above image: %s' % (y_train[0:10]))"
      ],
      "execution_count": 9,
      "outputs": [
        {
          "output_type": "display_data",
          "data": {
            "image/png": "[encoded data removed]",
            "text/plain": [
              "<Figure size 720x72 with 10 Axes>"
            ]
          },
          "metadata": {
            "needs_background": "light"
          }
        },
        {
          "output_type": "stream",
          "name": "stdout",
          "text": [
            "label for each of the above image: [2 6 7 4 4 0 3 0 7 3]\n"
          ]
        }
      ]
    },
    {
      "cell_type": "markdown",
      "metadata": {
        "id": "kzoyeXHOy80N"
      },
      "source": [
        "## **Data preparation**\n",
        "\n",
        "- Print the first image in the train image and figure out the shape of the images\n",
        "- Reshape the train and the test dataset to flatten them. Figure out the required shape\n",
        "- Normalise the train and the test dataset by dividing by 255\n",
        "- Print the new shapes of the train and the test set\n",
        "- One-hot encode the target variable"
      ]
    },
    {
      "cell_type": "code",
      "metadata": {
        "id": "NqndzQXng9rL",
        "colab": {
          "base_uri": "https://localhost:8080/"
        },
        "outputId": "21db297d-0f29-451c-b587-9ef0c72e372a"
      },
      "source": [
        "# Shape of the images and the first image\n",
        "\n",
        "print(\"Shape:\", X_train[0].shape)\n",
        "print()\n",
        "print(\"First image:\\n\", X_train[0])"
      ],
      "execution_count": 10,
      "outputs": [
        {
          "output_type": "stream",
          "name": "stdout",
          "text": [
            "Shape: (32, 32)\n",
            "\n",
            "First image:\n",
            " [[ 33.0704  30.2601  26.852  ...  71.4471  58.2204  42.9939]\n",
            " [ 25.2283  25.5533  29.9765 ... 113.0209 103.3639  84.2949]\n",
            " [ 26.2775  22.6137  40.4763 ... 113.3028 121.775  115.4228]\n",
            " ...\n",
            " [ 28.5502  36.212   45.0801 ...  24.1359  25.0927  26.0603]\n",
            " [ 38.4352  26.4733  23.2717 ...  28.1094  29.4683  30.0661]\n",
            " [ 50.2984  26.0773  24.0389 ...  49.6682  50.853   53.0377]]\n"
          ]
        }
      ]
    },
    {
      "cell_type": "code",
      "metadata": {
        "id": "D9YPwf9ysqWU"
      },
      "source": [
        "# Reshaping the dataset to flatten them. Remember that we are trying to reshape the 2D image data into a 1D array\n",
        "\n",
        "X_train = X_train.reshape(X_train.shape[0], 1024)\n",
        "X_test = X_test.reshape(X_test.shape[0], 1024)"
      ],
      "execution_count": 11,
      "outputs": []
    },
    {
      "cell_type": "markdown",
      "metadata": {
        "id": "VxCu9DtrGzH6"
      },
      "source": [
        "#### **Question 1: Normalize the train and test data (2 Marks)**"
      ]
    },
    {
      "cell_type": "code",
      "metadata": {
        "id": "q_yUUTp_mUzB"
      },
      "source": [
        "# Normalize inputs from 0-255 to 0-1\n",
        "\n",
        "X_train = X_train/255\n",
        "X_test = X_test/255"
      ],
      "execution_count": 12,
      "outputs": []
    },
    {
      "cell_type": "code",
      "metadata": {
        "colab": {
          "base_uri": "https://localhost:8080/"
        },
        "id": "t7FSqOpamWkH",
        "outputId": "f877d9d3-6a3d-47b1-8bc5-c9af074ea8e7"
      },
      "source": [
        "# New shape \n",
        "\n",
        "print('Training set:', X_train.shape, y_train.shape)\n",
        "print('Test set:', X_test.shape, y_test.shape)"
      ],
      "execution_count": 13,
      "outputs": [
        {
          "output_type": "stream",
          "name": "stdout",
          "text": [
            "Training set: (42000, 1024) (42000,)\n",
            "Test set: (18000, 1024) (18000,)\n"
          ]
        }
      ]
    },
    {
      "cell_type": "code",
      "metadata": {
        "colab": {
          "base_uri": "https://localhost:8080/"
        },
        "id": "zL0lYER4sqWw",
        "outputId": "48bbc350-cbf8-4ed5-9225-1c3922542892"
      },
      "source": [
        "# one hot encode output\n",
        "y_train = to_categorical(y_train)\n",
        "y_test = to_categorical(y_test)\n",
        "\n",
        "# no.of classes\n",
        "y_test"
      ],
      "execution_count": 14,
      "outputs": [
        {
          "output_type": "execute_result",
          "data": {
            "text/plain": [
              "array([[0., 1., 0., ..., 0., 0., 0.],\n",
              "       [0., 0., 0., ..., 1., 0., 0.],\n",
              "       [0., 0., 1., ..., 0., 0., 0.],\n",
              "       ...,\n",
              "       [0., 0., 0., ..., 1., 0., 0.],\n",
              "       [0., 0., 0., ..., 0., 0., 1.],\n",
              "       [0., 0., 1., ..., 0., 0., 0.]], dtype=float32)"
            ]
          },
          "metadata": {},
          "execution_count": 14
        }
      ]
    },
    {
      "cell_type": "markdown",
      "metadata": {
        "id": "ViqPOTquCF76"
      },
      "source": [
        "**Observations**\n",
        "- Notice that each entry of y_test is a one-hot encoded vector instead of a single label."
      ]
    },
    {
      "cell_type": "markdown",
      "metadata": {
        "id": "yH-gVrzuByNA"
      },
      "source": [
        "## **Model Building**\n",
        "\n",
        "Now, we have done the data preprocessing, let's build an ANN model."
      ]
    },
    {
      "cell_type": "code",
      "metadata": {
        "colab": {
          "base_uri": "https://localhost:8080/"
        },
        "id": "zHYQG8EkkLL1",
        "outputId": "1e34b948-53a4-414b-c3c0-68aa7ce36d47"
      },
      "source": [
        "X_train.shape"
      ],
      "execution_count": 30,
      "outputs": [
        {
          "output_type": "execute_result",
          "data": {
            "text/plain": [
              "(42000, 1024)"
            ]
          },
          "metadata": {},
          "execution_count": 30
        }
      ]
    },
    {
      "cell_type": "code",
      "metadata": {
        "id": "d9ZjN17XGzIA"
      },
      "source": [
        "#Fixing the seed for random number generators\n",
        "np.random.seed(42)\n",
        "import random\n",
        "random.seed(42)\n",
        "tf.random.set_seed(42)"
      ],
      "execution_count": 15,
      "outputs": []
    },
    {
      "cell_type": "markdown",
      "metadata": {
        "id": "UJDUoaEj1d6e"
      },
      "source": [
        "### **Model Architecture**\n",
        "- Write a function that returns a sequential model with the following architecture\n",
        " - First hidden layer with **64 nodes and relu activation** and the input shape which is used above\n",
        " - Second hidden layer with **32 nodes and relu activation**\n",
        " - Output layer with **softmax activation and number of nodes equal to the number of classes**\n",
        " -Compile the model with the **categorical_crossentropy loss, adam optimizer (learning_rate = 0.001), and accuracy metric**. Do not fit the model here, just return the compiled model.\n",
        "- Call the function and store the model in a new variable \n",
        "- Print the summary of the model\n",
        "- Fit on the train data with a **validation split of 0.2, batch size = 128, verbose = 1, and 20 epochs**. Store the model building history to use later for visualization."
      ]
    },
    {
      "cell_type": "markdown",
      "metadata": {
        "id": "24NB3aVsGzIC"
      },
      "source": [
        "#### **Question 2: Build and train a ANN model as per the above mentioned architecture (10 Marks)**"
      ]
    },
    {
      "cell_type": "code",
      "metadata": {
        "id": "Cmi81Gr5sqW-"
      },
      "source": [
        "#Importing losses and optimizers modules\n",
        "from tensorflow.keras import losses\n",
        "from tensorflow.keras import optimizers\n",
        "\n",
        "#Define the function\n",
        "def nn_model_1():\n",
        "    model = Sequential() \n",
        "    #Add layers as per the architecture mentioned above in the same sequence\n",
        "    model.add(Dense(64, activation='relu',  input_shape=(1024,)))\n",
        "    model.add(Dense(32, activation='relu'))\n",
        "    model.add(Dense(10, activation='softmax'))\n",
        "    \n",
        "    #declare adam optimizer with learning rate of 0.001 \n",
        "    adam = optimizers.Adam(learning_rate=0.001)\n",
        "    \n",
        "    #compile the model\n",
        "    model.compile(optimizer='adam', loss='categorical_crossentropy',  metrics = ['accuracy'])\n",
        "    \n",
        "    return model"
      ],
      "execution_count": 31,
      "outputs": []
    },
    {
      "cell_type": "code",
      "metadata": {
        "id": "bGCUI_xsImnH"
      },
      "source": [
        "# Build the model\n",
        "model_1 = nn_model_1()"
      ],
      "execution_count": 32,
      "outputs": []
    },
    {
      "cell_type": "code",
      "metadata": {
        "id": "ckJsLdmdQadZ",
        "colab": {
          "base_uri": "https://localhost:8080/"
        },
        "outputId": "5954014d-e7ff-4acf-c3cb-c63b51bfa481"
      },
      "source": [
        "#Print the summary\n",
        "model_1.summary()"
      ],
      "execution_count": 33,
      "outputs": [
        {
          "output_type": "stream",
          "name": "stdout",
          "text": [
            "Model: \"sequential_1\"\n",
            "_________________________________________________________________\n",
            "Layer (type)                 Output Shape              Param #   \n",
            "=================================================================\n",
            "dense_3 (Dense)              (None, 64)                65600     \n",
            "_________________________________________________________________\n",
            "dense_4 (Dense)              (None, 32)                2080      \n",
            "_________________________________________________________________\n",
            "dense_5 (Dense)              (None, 10)                330       \n",
            "=================================================================\n",
            "Total params: 68,010\n",
            "Trainable params: 68,010\n",
            "Non-trainable params: 0\n",
            "_________________________________________________________________\n"
          ]
        }
      ]
    },
    {
      "cell_type": "code",
      "metadata": {
        "id": "3Fy3Dif_zcCk",
        "colab": {
          "base_uri": "https://localhost:8080/"
        },
        "outputId": "6c8333b2-4bdc-4b5d-edc3-b6bba91b7dcd"
      },
      "source": [
        "# Fit the model\n",
        "history_model_1 = model_1.fit(X_train, y_train, validation_split=0.2, verbose=1, epochs=20, batch_size=128)"
      ],
      "execution_count": 34,
      "outputs": [
        {
          "output_type": "stream",
          "name": "stdout",
          "text": [
            "Epoch 1/20\n",
            "263/263 [==============================] - 2s 4ms/step - loss: 2.2968 - accuracy: 0.1121 - val_loss: 2.2641 - val_accuracy: 0.1365\n",
            "Epoch 2/20\n",
            "263/263 [==============================] - 1s 4ms/step - loss: 2.1260 - accuracy: 0.2057 - val_loss: 1.9909 - val_accuracy: 0.2689\n",
            "Epoch 3/20\n",
            "263/263 [==============================] - 1s 4ms/step - loss: 1.8549 - accuracy: 0.3374 - val_loss: 1.6914 - val_accuracy: 0.4063\n",
            "Epoch 4/20\n",
            "263/263 [==============================] - 1s 4ms/step - loss: 1.6149 - accuracy: 0.4441 - val_loss: 1.5213 - val_accuracy: 0.5030\n",
            "Epoch 5/20\n",
            "263/263 [==============================] - 1s 4ms/step - loss: 1.4541 - accuracy: 0.5207 - val_loss: 1.3888 - val_accuracy: 0.5550\n",
            "Epoch 6/20\n",
            "263/263 [==============================] - 1s 4ms/step - loss: 1.3445 - accuracy: 0.5648 - val_loss: 1.3216 - val_accuracy: 0.5842\n",
            "Epoch 7/20\n",
            "263/263 [==============================] - 1s 4ms/step - loss: 1.2758 - accuracy: 0.5928 - val_loss: 1.2601 - val_accuracy: 0.6032\n",
            "Epoch 8/20\n",
            "263/263 [==============================] - 1s 4ms/step - loss: 1.2180 - accuracy: 0.6187 - val_loss: 1.1862 - val_accuracy: 0.6425\n",
            "Epoch 9/20\n",
            "263/263 [==============================] - 1s 4ms/step - loss: 1.1645 - accuracy: 0.6388 - val_loss: 1.1701 - val_accuracy: 0.6439\n",
            "Epoch 10/20\n",
            "263/263 [==============================] - 1s 3ms/step - loss: 1.1336 - accuracy: 0.6526 - val_loss: 1.1526 - val_accuracy: 0.6475\n",
            "Epoch 11/20\n",
            "263/263 [==============================] - 1s 4ms/step - loss: 1.1072 - accuracy: 0.6617 - val_loss: 1.1213 - val_accuracy: 0.6580\n",
            "Epoch 12/20\n",
            "263/263 [==============================] - 1s 4ms/step - loss: 1.0865 - accuracy: 0.6672 - val_loss: 1.0863 - val_accuracy: 0.6712\n",
            "Epoch 13/20\n",
            "263/263 [==============================] - 1s 4ms/step - loss: 1.0660 - accuracy: 0.6762 - val_loss: 1.0772 - val_accuracy: 0.6713\n",
            "Epoch 14/20\n",
            "263/263 [==============================] - 1s 4ms/step - loss: 1.0491 - accuracy: 0.6821 - val_loss: 1.0693 - val_accuracy: 0.6694\n",
            "Epoch 15/20\n",
            "263/263 [==============================] - 1s 4ms/step - loss: 1.0377 - accuracy: 0.6852 - val_loss: 1.0643 - val_accuracy: 0.6757\n",
            "Epoch 16/20\n",
            "263/263 [==============================] - 1s 4ms/step - loss: 1.0195 - accuracy: 0.6885 - val_loss: 1.0511 - val_accuracy: 0.6740\n",
            "Epoch 17/20\n",
            "263/263 [==============================] - 1s 4ms/step - loss: 1.0094 - accuracy: 0.6942 - val_loss: 1.0163 - val_accuracy: 0.6933\n",
            "Epoch 18/20\n",
            "263/263 [==============================] - 1s 4ms/step - loss: 0.9963 - accuracy: 0.6981 - val_loss: 1.0324 - val_accuracy: 0.6886\n",
            "Epoch 19/20\n",
            "263/263 [==============================] - 1s 4ms/step - loss: 0.9890 - accuracy: 0.6996 - val_loss: 0.9990 - val_accuracy: 0.6956\n",
            "Epoch 20/20\n",
            "263/263 [==============================] - 1s 4ms/step - loss: 0.9794 - accuracy: 0.7021 - val_loss: 1.0142 - val_accuracy: 0.6906\n"
          ]
        }
      ]
    },
    {
      "cell_type": "markdown",
      "metadata": {
        "id": "tKOckG-KPyLg"
      },
      "source": [
        "### **Plotting the validation and training accuracies**"
      ]
    },
    {
      "cell_type": "markdown",
      "metadata": {
        "id": "CuKXZ3SmGzIG"
      },
      "source": [
        "#### **Question 3: Write your observations on the below plot (2 Marks)**"
      ]
    },
    {
      "cell_type": "code",
      "metadata": {
        "colab": {
          "base_uri": "https://localhost:8080/",
          "height": 497
        },
        "id": "lt77zgGMP4yw",
        "outputId": "a59584ff-8fc8-487d-ab2e-b0310f7891f8"
      },
      "source": [
        "# plotting the accuracies\n",
        "\n",
        "dict_hist = history_model_1.history\n",
        "list_ep = [i for i in range(1,21)]\n",
        "\n",
        "plt.figure(figsize = (8,8))\n",
        "plt.plot(list_ep,dict_hist['accuracy'],ls = '--', label = 'accuracy')\n",
        "plt.plot(list_ep,dict_hist['val_accuracy'],ls = '--', label = 'val_accuracy')\n",
        "plt.ylabel('Accuracy')\n",
        "plt.xlabel('Epochs')\n",
        "plt.legend()\n",
        "plt.show()"
      ],
      "execution_count": 35,
      "outputs": [
        {
          "output_type": "display_data",
          "data": {
            "image/png": "[encoded data removed]",
            "text/plain": [
              "<Figure size 576x576 with 1 Axes>"
            ]
          },
          "metadata": {
            "needs_background": "light"
          }
        }
      ]
    },
    {
      "cell_type": "markdown",
      "metadata": {
        "id": "pGBbQpLONX7k"
      },
      "source": [
        "**Observations:_______**\n",
        "- The accuracy value is about 0.6.\n",
        "- It shows that accuracy keeps increasing for the test data as the number of epochs increased before and the increase of accuracy is slowing down close to be constant after 10 epochs.\n",
        "- The validation accuracy keeps increasing and has become constant and it is fluctuating a bit after 10 epochs.\n",
        "- The validation accuracy is closer to the training accuracy. This indicates that the model is giving a generalized performance.\n"
      ]
    },
    {
      "cell_type": "markdown",
      "metadata": {
        "id": "z0qgLMBZm5-K"
      },
      "source": [
        "\n",
        "Let's build one more model with higher complexity and see if we can improve the performance of the model. \n",
        "\n",
        "First, we need to clear the previous model's history from the keras backend. Also, let's fix the seed again after clearing the backend."
      ]
    },
    {
      "cell_type": "code",
      "metadata": {
        "id": "y98BpLxsok_H"
      },
      "source": [
        "#Clearing backend\n",
        "from tensorflow.keras import backend\n",
        "backend.clear_session()"
      ],
      "execution_count": 36,
      "outputs": []
    },
    {
      "cell_type": "code",
      "metadata": {
        "id": "HbKi93HTolGW"
      },
      "source": [
        "#Fixing the seed for random number generators\n",
        "np.random.seed(42)\n",
        "import random\n",
        "random.seed(42)\n",
        "tf.random.set_seed(42)"
      ],
      "execution_count": 37,
      "outputs": []
    },
    {
      "cell_type": "markdown",
      "metadata": {
        "id": "lT6o3TIKuCtk"
      },
      "source": [
        "### **Second Model Architecture**\n",
        "- Write a function that returns a sequential model with the following architecture\n",
        " - First hidden layer with **256 nodes and relu activation**\n",
        " - Second hidden layer with **128 nodes and relu activation**\n",
        " - Add the **Dropout layer with rate equal to 0.2**\n",
        " - Third hidden layer with **64 nodes and relu activation**\n",
        " - Fourth hidden layer with **64 nodes and relu activation**\n",
        " - Fifth hidden layer with **32 nodes and relu activation**\n",
        " - Add the **BatchNormalization layer**\n",
        " - Output layer with **softmax activation and number of nodes equal to the number of classes**\n",
        " -Compile the model with the **categorical_crossentropy loss, adam optimizer (learning_rate = 0.0005), and accuracy metric**. Do not fit the model here, just return the compiled model.\n",
        "- Call the function and store the model in a new variable \n",
        "- Print the summary of the model\n",
        "- Fit on the train data with a **validation split of 0.2, batch size = 128, verbose = 1, and 30 epochs**. Store the model building history to use later for visualization."
      ]
    },
    {
      "cell_type": "markdown",
      "metadata": {
        "id": "4dV32YjAGzIR"
      },
      "source": [
        "#### **Question 4: Build and train the new ANN model as per the above mentioned architecture (10 Marks)**"
      ]
    },
    {
      "cell_type": "code",
      "metadata": {
        "id": "EEPYLFIPnSDP"
      },
      "source": [
        "#Importing losses and optimizers modules\n",
        "from tensorflow.keras import losses\n",
        "from tensorflow.keras import optimizers\n",
        "\n",
        "#Define the function\n",
        "def nn_model_2():\n",
        "    model = Sequential() \n",
        "    #Add layers as per the architecture mentioned above in the same sequence\n",
        "    model.add(Dense(256, activation='relu',  input_shape=(1024,)))\n",
        "    model.add(Dense(128, activation='relu'))\n",
        "    model.add(Dropout(0.2))\n",
        "    model.add(Dense(64, activation='relu'))\n",
        "    model.add(Dense(64, activation='relu'))\n",
        "    model.add(Dense(32, activation='relu'))\n",
        "    model.add(BatchNormalization())\n",
        "    model.add(Dense(10, activation='softmax'))\n",
        "    \n",
        "    #declare adam optimizer with learning rate of 0.0005 \n",
        "    adam = optimizers.Adam(learning_rate=0.0005)\n",
        "    \n",
        "    #compile the model\n",
        "    model.compile(optimizer='adam', loss='categorical_crossentropy',  metrics = ['accuracy'])\n",
        "    \n",
        "    return model"
      ],
      "execution_count": 49,
      "outputs": []
    },
    {
      "cell_type": "code",
      "metadata": {
        "id": "AKjDY4plnSFl"
      },
      "source": [
        "# Build the model\n",
        "model_2 = nn_model_2()"
      ],
      "execution_count": 50,
      "outputs": []
    },
    {
      "cell_type": "code",
      "metadata": {
        "id": "gz_6SVrU2swZ",
        "colab": {
          "base_uri": "https://localhost:8080/"
        },
        "outputId": "0279e617-a1d6-4701-b0af-f5a6f7ebc3de"
      },
      "source": [
        "#Print the model summary\n",
        "model_2.summary()"
      ],
      "execution_count": 51,
      "outputs": [
        {
          "output_type": "stream",
          "name": "stdout",
          "text": [
            "Model: \"sequential_3\"\n",
            "_________________________________________________________________\n",
            "Layer (type)                 Output Shape              Param #   \n",
            "=================================================================\n",
            "dense_18 (Dense)             (None, 256)               262400    \n",
            "_________________________________________________________________\n",
            "dense_19 (Dense)             (None, 128)               32896     \n",
            "_________________________________________________________________\n",
            "dropout_3 (Dropout)          (None, 128)               0         \n",
            "_________________________________________________________________\n",
            "dense_20 (Dense)             (None, 64)                8256      \n",
            "_________________________________________________________________\n",
            "dense_21 (Dense)             (None, 64)                4160      \n",
            "_________________________________________________________________\n",
            "dense_22 (Dense)             (None, 32)                2080      \n",
            "_________________________________________________________________\n",
            "batch_normalization_3 (Batch (None, 32)                128       \n",
            "_________________________________________________________________\n",
            "dense_23 (Dense)             (None, 10)                330       \n",
            "=================================================================\n",
            "Total params: 310,250\n",
            "Trainable params: 310,186\n",
            "Non-trainable params: 64\n",
            "_________________________________________________________________\n"
          ]
        }
      ]
    },
    {
      "cell_type": "code",
      "metadata": {
        "id": "IQ0Sc4R-y-uu",
        "colab": {
          "base_uri": "https://localhost:8080/"
        },
        "outputId": "11d70b21-f9b6-45b5-ec7e-e3cbc5b37a5a"
      },
      "source": [
        "# Fit the model\n",
        "history_model_2 = model_2.fit(X_train, y_train,validation_split=0.2, verbose=1, epochs=30, batch_size=128)"
      ],
      "execution_count": 52,
      "outputs": [
        {
          "output_type": "stream",
          "name": "stdout",
          "text": [
            "Epoch 1/30\n",
            "263/263 [==============================] - 3s 10ms/step - loss: 2.3389 - accuracy: 0.1018 - val_loss: 2.3097 - val_accuracy: 0.0993\n",
            "Epoch 2/30\n",
            "263/263 [==============================] - 2s 9ms/step - loss: 2.2543 - accuracy: 0.1345 - val_loss: 2.2367 - val_accuracy: 0.1186\n",
            "Epoch 3/30\n",
            "263/263 [==============================] - 2s 9ms/step - loss: 1.8323 - accuracy: 0.3291 - val_loss: 1.8146 - val_accuracy: 0.3717\n",
            "Epoch 4/30\n",
            "263/263 [==============================] - 2s 9ms/step - loss: 1.4539 - accuracy: 0.5006 - val_loss: 1.3050 - val_accuracy: 0.5727\n",
            "Epoch 5/30\n",
            "263/263 [==============================] - 3s 10ms/step - loss: 1.3158 - accuracy: 0.5573 - val_loss: 1.2495 - val_accuracy: 0.5851\n",
            "Epoch 6/30\n",
            "263/263 [==============================] - 3s 10ms/step - loss: 1.2579 - accuracy: 0.5844 - val_loss: 1.1905 - val_accuracy: 0.6075\n",
            "Epoch 7/30\n",
            "263/263 [==============================] - 3s 10ms/step - loss: 1.2169 - accuracy: 0.6009 - val_loss: 1.1713 - val_accuracy: 0.6154\n",
            "Epoch 8/30\n",
            "263/263 [==============================] - 2s 9ms/step - loss: 1.1884 - accuracy: 0.6077 - val_loss: 1.1460 - val_accuracy: 0.6249\n",
            "Epoch 9/30\n",
            "263/263 [==============================] - 2s 9ms/step - loss: 1.1689 - accuracy: 0.6148 - val_loss: 1.1415 - val_accuracy: 0.6267\n",
            "Epoch 10/30\n",
            "263/263 [==============================] - 2s 9ms/step - loss: 1.1412 - accuracy: 0.6250 - val_loss: 1.1291 - val_accuracy: 0.6319\n",
            "Epoch 11/30\n",
            "263/263 [==============================] - 3s 10ms/step - loss: 1.1245 - accuracy: 0.6345 - val_loss: 1.0571 - val_accuracy: 0.6579\n",
            "Epoch 12/30\n",
            "263/263 [==============================] - 2s 9ms/step - loss: 1.1160 - accuracy: 0.6358 - val_loss: 1.0935 - val_accuracy: 0.6458\n",
            "Epoch 13/30\n",
            "263/263 [==============================] - 2s 9ms/step - loss: 1.0802 - accuracy: 0.6501 - val_loss: 1.1506 - val_accuracy: 0.6292\n",
            "Epoch 14/30\n",
            "263/263 [==============================] - 2s 9ms/step - loss: 1.0690 - accuracy: 0.6532 - val_loss: 1.1136 - val_accuracy: 0.6446\n",
            "Epoch 15/30\n",
            "263/263 [==============================] - 2s 9ms/step - loss: 1.0497 - accuracy: 0.6610 - val_loss: 1.0937 - val_accuracy: 0.6494\n",
            "Epoch 16/30\n",
            "263/263 [==============================] - 2s 9ms/step - loss: 1.0341 - accuracy: 0.6674 - val_loss: 1.0382 - val_accuracy: 0.6719\n",
            "Epoch 17/30\n",
            "263/263 [==============================] - 2s 9ms/step - loss: 1.0197 - accuracy: 0.6747 - val_loss: 1.0274 - val_accuracy: 0.6706\n",
            "Epoch 18/30\n",
            "263/263 [==============================] - 2s 9ms/step - loss: 1.0105 - accuracy: 0.6749 - val_loss: 1.0618 - val_accuracy: 0.6537\n",
            "Epoch 19/30\n",
            "263/263 [==============================] - 2s 9ms/step - loss: 0.9939 - accuracy: 0.6828 - val_loss: 1.0326 - val_accuracy: 0.6673\n",
            "Epoch 20/30\n",
            "263/263 [==============================] - 3s 10ms/step - loss: 0.9799 - accuracy: 0.6878 - val_loss: 0.9673 - val_accuracy: 0.6896\n",
            "Epoch 21/30\n",
            "263/263 [==============================] - 2s 9ms/step - loss: 0.9705 - accuracy: 0.6901 - val_loss: 0.9678 - val_accuracy: 0.6946\n",
            "Epoch 22/30\n",
            "263/263 [==============================] - 2s 9ms/step - loss: 0.9551 - accuracy: 0.6982 - val_loss: 0.9657 - val_accuracy: 0.6889\n",
            "Epoch 23/30\n",
            "263/263 [==============================] - 2s 9ms/step - loss: 0.9583 - accuracy: 0.6956 - val_loss: 1.0017 - val_accuracy: 0.6765\n",
            "Epoch 24/30\n",
            "263/263 [==============================] - 2s 9ms/step - loss: 0.9413 - accuracy: 0.7060 - val_loss: 0.9791 - val_accuracy: 0.6843\n",
            "Epoch 25/30\n",
            "263/263 [==============================] - 3s 10ms/step - loss: 0.9322 - accuracy: 0.7050 - val_loss: 0.9550 - val_accuracy: 0.6963\n",
            "Epoch 26/30\n",
            "263/263 [==============================] - 2s 9ms/step - loss: 0.9360 - accuracy: 0.7045 - val_loss: 0.9824 - val_accuracy: 0.6894\n",
            "Epoch 27/30\n",
            "263/263 [==============================] - 3s 10ms/step - loss: 0.9371 - accuracy: 0.7025 - val_loss: 0.9518 - val_accuracy: 0.6980\n",
            "Epoch 28/30\n",
            "263/263 [==============================] - 3s 10ms/step - loss: 0.9253 - accuracy: 0.7049 - val_loss: 0.9183 - val_accuracy: 0.7096\n",
            "Epoch 29/30\n",
            "263/263 [==============================] - 3s 10ms/step - loss: 0.9210 - accuracy: 0.7090 - val_loss: 0.9222 - val_accuracy: 0.7070\n",
            "Epoch 30/30\n",
            "263/263 [==============================] - 3s 10ms/step - loss: 0.9021 - accuracy: 0.7152 - val_loss: 0.9510 - val_accuracy: 0.7005\n"
          ]
        }
      ]
    },
    {
      "cell_type": "markdown",
      "metadata": {
        "id": "qtE4DFxdGzIT"
      },
      "source": [
        "### **Plotting the validation and training accuracies**"
      ]
    },
    {
      "cell_type": "markdown",
      "metadata": {
        "id": "O1td6Nd4GzIU"
      },
      "source": [
        "#### **Question 5: Write your observations on the below plot (2 Marks)**"
      ]
    },
    {
      "cell_type": "code",
      "metadata": {
        "colab": {
          "base_uri": "https://localhost:8080/",
          "height": 497
        },
        "id": "01ig6BrF1KVy",
        "outputId": "5dd2db9c-8323-4c3e-c16f-13c4c3d0e678"
      },
      "source": [
        "# plotting the accuracies\n",
        "\n",
        "dict_hist = history_model_2.history\n",
        "list_ep = [i for i in range(1,31)]\n",
        "\n",
        "plt.figure(figsize = (8,8))\n",
        "plt.plot(list_ep,dict_hist['accuracy'],ls = '--', label = 'accuracy')\n",
        "plt.plot(list_ep,dict_hist['val_accuracy'],ls = '--', label = 'val_accuracy')\n",
        "plt.ylabel('Accuracy')\n",
        "plt.xlabel('Epochs')\n",
        "plt.legend()\n",
        "plt.show()"
      ],
      "execution_count": 53,
      "outputs": [
        {
          "output_type": "display_data",
          "data": {
            "image/png": "[encoded data removed]",
            "text/plain": [
              "<Figure size 576x576 with 1 Axes>"
            ]
          },
          "metadata": {
            "needs_background": "light"
          }
        }
      ]
    },
    {
      "cell_type": "markdown",
      "metadata": {
        "id": "VPW1LlD61RDn"
      },
      "source": [
        "**Observations:_______**\n",
        "- The test accuracy and val_accuracy keep increasing as the number of epochs increased before 10 epochs and the increase of accuracy has slowed down close to be constant after 10 epochs.\n",
        "- The validation accuracy is closer to the training accuracy. This model is giving a generalized performance with over 70% accuracy on the train as well as validation data.\n",
        "- The accuracy value has increased compared to the previous one. \n",
        "- Among the two models, model 2 has given the better performance. We should use model 2 to check on the test data."
      ]
    },
    {
      "cell_type": "markdown",
      "metadata": {
        "id": "8kuXx9Bvu00f"
      },
      "source": [
        "## **Predictions on the test data**\n",
        "\n",
        "- Make predictions on the test set using the second model\n",
        "- Print the obtained results using the classification report and the confusion matrix\n",
        "- Final observations from the obtained results"
      ]
    },
    {
      "cell_type": "code",
      "metadata": {
        "id": "xbWMEtTj5Ad0"
      },
      "source": [
        "test_pred = model_2.predict(X_test)\n",
        "\n",
        "test_pred = np.argmax(test_pred, axis=-1)"
      ],
      "execution_count": 54,
      "outputs": []
    },
    {
      "cell_type": "markdown",
      "metadata": {
        "id": "i3li8Ib08yts"
      },
      "source": [
        "**Note:** Earlier, we noticed that each entry of the test data is a one-hot encoded vector but to print the classification report and confusion matrix, we must convert each entry of y_test to a single label."
      ]
    },
    {
      "cell_type": "code",
      "metadata": {
        "id": "NByu7uAQ8x9P"
      },
      "source": [
        "#Converting each entry to single label from one-hot encoded vector\n",
        "y_test = np.argmax(y_test, axis=-1)"
      ],
      "execution_count": 55,
      "outputs": []
    },
    {
      "cell_type": "markdown",
      "metadata": {
        "id": "JVxGB0qaGzIY"
      },
      "source": [
        "#### **Question 6: Print the classification report and the confusion matrix for the test predictions. Write your observations on the final results (4 Marks)**"
      ]
    },
    {
      "cell_type": "code",
      "metadata": {
        "id": "xRddeJ-3EHT1",
        "colab": {
          "base_uri": "https://localhost:8080/",
          "height": 617
        },
        "outputId": "88600fa7-c903-44f8-98d9-50c7c8b7ba7a"
      },
      "source": [
        "#importing required functions\n",
        "from sklearn.metrics import classification_report\n",
        "from sklearn.metrics import confusion_matrix\n",
        "\n",
        "#Printing the classification report\n",
        "print(classification_report(y_test, test_pred))\n",
        "\n",
        "#Plotting the heatmap using confusion matrix\n",
        "cm = confusion_matrix(y_test, test_pred) #Write the code for creating confusion matrix using actual labels and predicted labels\n",
        "\n",
        "plt.figure(figsize=(8,5))\n",
        "sns.heatmap(cm, annot=True,  fmt='.0f')\n",
        "plt.ylabel('Actual')\n",
        "plt.xlabel('Predicted')\n",
        "plt.show()"
      ],
      "execution_count": 56,
      "outputs": [
        {
          "output_type": "stream",
          "name": "stdout",
          "text": [
            "              precision    recall  f1-score   support\n",
            "\n",
            "           0       0.74      0.70      0.72      1814\n",
            "           1       0.63      0.84      0.72      1828\n",
            "           2       0.73      0.72      0.73      1803\n",
            "           3       0.77      0.64      0.70      1719\n",
            "           4       0.71      0.82      0.76      1812\n",
            "           5       0.74      0.57      0.64      1768\n",
            "           6       0.72      0.71      0.71      1832\n",
            "           7       0.73      0.76      0.75      1808\n",
            "           8       0.60      0.64      0.62      1812\n",
            "           9       0.75      0.63      0.69      1804\n",
            "\n",
            "    accuracy                           0.71     18000\n",
            "   macro avg       0.71      0.70      0.70     18000\n",
            "weighted avg       0.71      0.71      0.70     18000\n",
            "\n"
          ]
        },
        {
          "output_type": "display_data",
          "data": {
            "image/png": "[encoded data removed]",
            "text/plain": [
              "<Figure size 576x360 with 2 Axes>"
            ]
          },
          "metadata": {
            "needs_background": "light"
          }
        }
      ]
    },
    {
      "cell_type": "markdown",
      "metadata": {
        "id": "DjErl4GA2u9s"
      },
      "source": [
        "#### **Observations:__________**\n",
        "- The classification report shows the classification metrics - precision, recall, f1-score for each class. \n",
        "- The recall and the precision score value have been improved for some classes.\n",
        "- The overall accuracy on the test data is 71% which is approximately the same as the validation accuracy."
      ]
    }
  ]
}